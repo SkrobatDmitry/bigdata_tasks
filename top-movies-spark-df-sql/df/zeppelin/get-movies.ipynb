﻿{
  "metadata": {
    "name": "top-movies-spark-df",
    "kernelspec": {
      "language": "scala",
      "name": "spark2-scala"
    },
    "language_info": {
      "codemirror_mode": "text/x-scala",
      "file_extension": ".scala",
      "mimetype": "text/x-scala",
      "name": "scala",
      "pygments_lexer": "scala"
    }
  },
  "nbformat": 4,
  "nbformat_minor": 2,
  "cells": [
    {
      "cell_type": "raw",
      "metadata": {
        "format": "text/plain"
      },
      "source": "%sh\n\nfunction load_dataset() {\n  wget -q https://files.grouplens.org/datasets/movielens/$1.zip\n  unzip -u -q $1.zip $1/movies.csv $1/ratings.csv\n\n  if [ -d dataset ]; then\n    rm -r dataset\n  fi\n\n  mv $1 dataset\n  rm $1.zip\n}\n\ndataset\u003d\"ml-latest-small\"\nhadoop_path\u003d\"/top-movies-spark-df\"\n\nload_dataset $dataset\n\nhdfs dfs -test -d $hadoop_path\nif [ $? -eq 0 ]; then\n  hdfs dfs -rm -r $hadoop_path \u0026\u003e/dev/null\nfi\n\nhdfs dfs -mkdir $hadoop_path\nhdfs dfs -put dataset $hadoop_path"
    },
    {
      "cell_type": "raw",
      "metadata": {
        "format": "text/plain"
      },
      "source": "%pyspark\n\nimport sys\nimport re\nfrom pyspark.sql import Window, dataframe\nfrom pyspark.sql.functions import udf, explode, split, lit, round, mean, row_number\nfrom pyspark.sql.types import IntegerType, StringType, BooleanType"
    },
    {
      "cell_type": "raw",
      "metadata": {
        "format": "text/plain"
      },
      "source": "%pyspark\n\ndataset_path \u003d \u0027/top-movies-spark-df/dataset\u0027\noutput_path \u003d \u0027/top-movies-spark-df/output\u0027\n\nargs \u003d {\n    \u0027N\u0027: None,\n    \u0027regexp\u0027: \u0027\u0027,\n    \u0027year_from\u0027: 0,\n    \u0027year_to\u0027: 10000,\n    \u0027genres\u0027: None\n}"
    },
    {
      "cell_type": "raw",
      "metadata": {
        "format": "text/plain"
      },
      "source": "%pyspark\n\ndef get_csv_df(path: str, header: bool \u003d True) -\u003e dataframe:\n    try:\n        return spark.read.csv(path, header\u003dheader, inferSchema\u003dTrue)\n    except Exception as e:\n        print(e, file\u003dsys.stderr)\n        \n\nmovies_df \u003d get_csv_df(f\u0027{dataset_path}/movies.csv\u0027)\nratings_df \u003d get_csv_df(f\u0027{dataset_path}/ratings.csv\u0027)\n\nprint(movies_df.take(1))\nprint(ratings_df.take(1))"
    },
    {
      "cell_type": "raw",
      "metadata": {
        "format": "text/plain"
      },
      "source": "%pyspark\n\n@udf(StringType())\ndef get_title_from_title_udf(title: str):\n    movie_title \u003d re.sub(r\u0027[ ]\\((\\d{4})\\)$\u0027, \u0027\u0027, title)\n    return movie_title"
    },
    {
      "cell_type": "raw",
      "metadata": {
        "format": "text/plain"
      },
      "source": "%pyspark\n\n@udf(IntegerType())\ndef get_year_from_title_udf(title: str):\n    try:\n        movie_year \u003d re.findall(r\u0027[ ]\\((\\d{4})\\)$\u0027, title)[0]\n        return int(movie_year)\n    except Exception as e:\n        return None"
    },
    {
      "cell_type": "raw",
      "metadata": {
        "format": "text/plain"
      },
      "source": "%pyspark\n\n@udf(BooleanType())\ndef match_movie_udf(m_title: str, m_year: int, m_genre: str, regexp: str, year_from: int, year_to: int, genres: str):\n\n    def match_title(title: str):\n        try:\n            return bool(re.search(regexp, title, re.IGNORECASE))\n        except Exception as e:\n            return False\n\n    def match_year(year: int):\n        try:\n            return year_from \u003c\u003d year \u003c\u003d year_to\n        except Exception as e:\n            return False\n\n    def match_genre(genre: str):\n        try:\n            return genre.lower() in genres.lower() if genres else genre !\u003d \u0027(no genres listed)\u0027\n        except Exception as e:\n            return False\n\n    return match_genre(m_genre) and match_title(m_title) and match_year(m_year)"
    },
    {
      "cell_type": "raw",
      "metadata": {
        "format": "text/plain"
      },
      "source": "%pyspark\n\ndef map_and_filter_movies_df(df: dataframe) -\u003e dataframe:\n    lit_movie_args \u003d [lit(v) for k, v in args.items() if k in [\u0027regexp\u0027, \u0027year_from\u0027, \u0027year_to\u0027, \u0027genres\u0027]]\n\n    df \u003d df.select(df[\u0027movieId\u0027].alias(\u0027movie_id\u0027), get_title_from_title_udf(\u0027title\u0027).alias(\u0027title\u0027),\n                   get_year_from_title_udf(\u0027title\u0027).alias(\u0027year\u0027), explode(split(\u0027genres\u0027, r\u0027\\|\u0027)).alias(\u0027genre\u0027))\n\n    return df.filter(match_movie_udf(\u0027title\u0027, \u0027year\u0027, \u0027genre\u0027, *lit_movie_args))\n    \n\nmapped_and_filtered_movies_df \u003d map_and_filter_movies_df(movies_df)\nprint(mapped_and_filtered_movies_df.take(2))"
    },
    {
      "cell_type": "raw",
      "metadata": {
        "format": "text/plain"
      },
      "source": "%pyspark\n\ndef group_and_agg_ratings_df(df: dataframe) -\u003e dataframe:\n    df \u003d df.select(df[\u0027movieId\u0027].alias(\u0027movie_id\u0027), df[\u0027rating\u0027]).filter(df[\u0027rating\u0027].isNotNull())\n    return df.groupBy(\u0027movie_id\u0027).agg(round(mean(\u0027rating\u0027), 4).alias(\u0027rating\u0027))\n    \n\ngrouped_and_agg_ratings_df \u003d group_and_agg_ratings_df(ratings_df)\nprint(grouped_and_agg_ratings_df.take(2))"
    },
    {
      "cell_type": "raw",
      "metadata": {
        "format": "text/plain"
      },
      "source": "%pyspark\n\ndef join_and_filter_dfs(movies_df: dataframe, ratings_df: dataframe) -\u003e dataframe:\n    df \u003d movies_df.join(ratings_df, movies_df[\u0027movie_id\u0027] \u003d\u003d ratings_df[\u0027movie_id\u0027], \u0027inner\u0027)\n    df \u003d df.select(movies_df[\u0027genre\u0027], movies_df[\u0027title\u0027], movies_df[\u0027year\u0027], ratings_df[\u0027rating\u0027]) \\\n        .withColumn(\u0027row_number\u0027, row_number().over(Window.partitionBy(\u0027genre\u0027).orderBy(ratings_df[\u0027rating\u0027].desc(), movies_df[\u0027year\u0027].desc(), movies_df[\u0027title\u0027].asc())))\n    \n    if args[\u0027N\u0027]:\n        df \u003d df.filter(df.row_number \u003c\u003d args[\u0027N\u0027])\n\n    return df.sort(df[\u0027genre\u0027], df[\u0027row_number\u0027]).select(df[\u0027genre\u0027], df[\u0027title\u0027], df[\u0027year\u0027], df[\u0027rating\u0027])\n    \n\nmovies_ratings_df \u003d join_and_filter_dfs(mapped_and_filtered_movies_df, grouped_and_agg_ratings_df)\nprint(movies_ratings_df.take(2))"
    },
    {
      "cell_type": "raw",
      "metadata": {
        "format": "text/plain"
      },
      "source": "%pyspark\n\nmovies_ratings_df.write.csv(output_path, encoding\u003d\u0027utf-8\u0027, header\u003dTrue)"
    },
    {
      "cell_type": "raw",
      "metadata": {
        "format": "text/plain"
      },
      "source": "%sh\n\nhdfs dfs -ls /top-movies-spark-df/output"
    }
  ]
}