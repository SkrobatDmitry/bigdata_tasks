﻿{
  "metadata": {
    "name": "top-movies-spark-sql",
    "kernelspec": {
      "language": "scala",
      "name": "spark2-scala"
    },
    "language_info": {
      "codemirror_mode": "text/x-scala",
      "file_extension": ".scala",
      "mimetype": "text/x-scala",
      "name": "scala",
      "pygments_lexer": "scala"
    }
  },
  "nbformat": 4,
  "nbformat_minor": 2,
  "cells": [
    {
      "cell_type": "raw",
      "metadata": {
        "format": "text/plain"
      },
      "source": "%sh\n\nfunction load_dataset() {\n  wget -q https://files.grouplens.org/datasets/movielens/$1.zip\n  unzip -u -q $1.zip $1/movies.csv $1/ratings.csv\n\n  if [ -d dataset ]; then\n    rm -r dataset\n  fi\n\n  mv $1 dataset\n  rm $1.zip\n}\n\ndataset\u003d\"ml-latest-small\"\nhadoop_path\u003d\"/top-movies-spark-sql\"\n\nload_dataset $dataset\n\nhdfs dfs -test -d $hadoop_path\nif [ $? -eq 0 ]; then\n  hdfs dfs -rm -r $hadoop_path \u0026\u003e/dev/null\nfi\n\nhdfs dfs -mkdir $hadoop_path\nhdfs dfs -put dataset $hadoop_path"
    },
    {
      "cell_type": "raw",
      "metadata": {
        "format": "text/plain"
      },
      "source": "%pyspark\n\nhadoop_path \u003d \u0027/top-movies-spark-sql\u0027\n\nargs \u003d {\n    \u0027N\u0027: 0,\n    \u0027regexp\u0027: \u0027\u0027,\n    \u0027year_from\u0027: 0,\n    \u0027year_to\u0027: 10000,\n    \u0027genres\u0027: \u0027Action|Adventure|Animation|Children|Comedy|Crime|Documentary|Drama|Fantasy|Film-Noir|Horror|IMAX|Musical|Mystery|Romance|Sci-Fi|Thriller|War|Western\u0027\n}"
    },
    {
      "cell_type": "raw",
      "metadata": {
        "format": "text/plain"
      },
      "source": "%pyspark\n\ndef create_db(path: str) -\u003e None:\n    spark.sql(f\u0027DROP DATABASE IF EXISTS movies_db CASCADE\u0027)\n    spark.sql(f\u0027CREATE DATABASE movies_db COMMENT \"This is movies database\" LOCATION \"{path}/movies_db\"\u0027)\n    \n\ncreate_db(hadoop_path)\nspark.sql(\u0027DESCRIBE DATABASE movies_db\u0027).show(truncate\u003dFalse)"
    },
    {
      "cell_type": "raw",
      "metadata": {
        "format": "text/plain"
      },
      "source": "%pyspark\n\ndef create_movies_view(path: str) -\u003e None:\n    spark.sql(f\u0027DROP VIEW IF EXISTS lnd_movies\u0027)\n    spark.sql(f\u0027\u0027\u0027\n        CREATE TEMPORARY VIEW lnd_movies\n        (\n            movie_id STRING,\n            title STRING,\n            genres STRING\n        )\n        USING CSV\n        OPTIONS\n        (\n            HEADER \u003d true,\n            PATH \u003d \u0027{path}/dataset/movies.csv\u0027\n        )\n    \u0027\u0027\u0027)\n    \n\ncreate_movies_view(hadoop_path)\nspark.sql(\u0027SELECT * FROM lnd_movies LIMIT 5\u0027).show(truncate\u003dFalse)"
    },
    {
      "cell_type": "raw",
      "metadata": {
        "format": "text/plain"
      },
      "source": "%pyspark\n\ndef create_ratings_view(path: str) -\u003e None:\n    spark.sql(f\u0027DROP VIEW IF EXISTS lnd_ratings\u0027)\n    spark.sql(f\u0027\u0027\u0027\n        CREATE TEMPORARY VIEW lnd_ratings\n        (\n            user_id STRING,\n            movie_id STRING,\n            rating STRING,\n            timestamp STRING\n        )\n        USING CSV\n        OPTIONS\n        (\n            HEADER \u003d true,\n            PATH \u003d \u0027{path}/dataset/ratings.csv\u0027\n        )\n    \u0027\u0027\u0027)\n    \n    \ncreate_ratings_view(hadoop_path)\nspark.sql(\u0027SELECT * FROM lnd_ratings LIMIT 5\u0027).show(truncate\u003dFalse)"
    },
    {
      "cell_type": "raw",
      "metadata": {
        "format": "text/plain"
      },
      "source": "%pyspark\n\ndef create_movies_table(path: str) -\u003e None:\n    spark.sql(f\u0027DROP TABLE IF EXISTS movies_db.mapped_and_filtered_movies\u0027)\n    spark.sql(f\u0027\u0027\u0027\n        CREATE TABLE movies_db.mapped_and_filtered_movies\n        (\n            title STRING,\n            year INT,\n            genre STRING,\n            rating FLOAT\n        )\n        LOCATION \u0027{path}/movies_db/mapped_and_filtered_movies\u0027\n    \u0027\u0027\u0027)\n    \n\ncreate_movies_table(hadoop_path)\nspark.sql(\u0027DESCRIBE TABLE movies_db.mapped_and_filtered_movies\u0027).show(truncate\u003dFalse)"
    },
    {
      "cell_type": "raw",
      "metadata": {
        "format": "text/plain"
      },
      "source": "%pyspark\n\ndef load_movies_table() -\u003e None:\n    split_regexp \u003d \u0027(.+)[ ]+[(](\\\\\\d{4})[)]\u0027\n    spark.sql(f\u0027\u0027\u0027\n        WITH cte_split AS\n        (\n            SELECT\n                movie_id,\n                REGEXP_EXTRACT(title, \u0027{split_regexp}\u0027, 1) AS title,\n                REGEXP_EXTRACT(title, \u0027{split_regexp}\u0027, 2) AS year,\n                EXPLODE(SPLIT(genres, \u0027[|]\u0027)) AS genre\n            FROM lnd_movies\n        ),\n        cte_required_genres AS\n        (\n            SELECT EXPLODE(SPLIT(\u0027{args[\u0027genres\u0027]}\u0027, \u0027[|]\u0027)) AS genre\n        )\n        INSERT OVERWRITE TABLE movies_db.mapped_and_filtered_movies\n            SELECT title, year, genre, rating\n            FROM\n            (\n                SELECT \n                    title, year, genre, rating,\n                    ROW_NUMBER() OVER(PARTITION BY genre ORDER BY rating DESC, year DESC, title) AS num\n                FROM cte_split\n                JOIN\n                (\n                    SELECT movie_id, ROUND(AVG(rating), 4) as rating\n\t\t            FROM lnd_ratings\n\t\t            GROUP BY (movie_id)\n                ) USING (movie_id)\n                WHERE\n                    year !\u003d 0 AND year BETWEEN {args[\u0027year_from\u0027]} AND {args[\u0027year_to\u0027]}\n                    AND LOCATE(\u0027{args[\u0027regexp\u0027]}\u0027, title) !\u003d 0\n                    AND genre IN (SELECT genre FROM cte_required_genres)\n            ) AS result\n            WHERE num \u003c\u003d {args[\u0027N\u0027]} OR {args[\u0027N\u0027]} \u003d 0\n            ORDER BY genre, rating DESC, year DESC, title\n    \u0027\u0027\u0027)\n\n\nload_movies_table()\nspark.sql(\u0027SELECT * FROM movies_db.mapped_and_filtered_movies LIMIT 5\u0027).show(truncate\u003dFalse)"
    },
    {
      "cell_type": "raw",
      "metadata": {
        "format": "text/plain"
      },
      "source": "%pyspark\n\ndef create_result_table(path: str) -\u003e None:\n    spark.sql(f\u0027DROP TABLE IF EXISTS movies_db.result_movies\u0027)\n    spark.sql(f\u0027\u0027\u0027\n        CREATE TABLE movies_db.result_movies\n        USING CSV\n        OPTIONS\n        (\n            HEADER \u003d true\n        )\n        LOCATION \u0027{path}/movies_db/result_movies\u0027\n        AS\n        (\n            SELECT genre, title, year, rating \n            FROM movies_db.mapped_and_filtered_movies\n        )\n    \u0027\u0027\u0027)\n    \n\ncreate_result_table(hadoop_path)"
    },
    {
      "cell_type": "raw",
      "metadata": {
        "format": "text/plain"
      },
      "source": "%sh\n\nhdfs dfs -ls /top-movies-spark-sql/movies_db/result_movies"
    }
  ]
}